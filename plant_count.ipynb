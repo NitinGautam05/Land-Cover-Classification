{
 "cells": [
  {
   "cell_type": "code",
   "execution_count": null,
   "id": "73261f04-fb81-4f41-aeb5-504fec24b666",
   "metadata": {},
   "outputs": [
    {
     "name": "stdout",
     "output_type": "stream",
     "text": [
      "Number of plants detected: 385\n"
     ]
    }
   ],
   "source": [
    "import cv2\n",
    "import numpy as np\n",
    "\n",
    "def count_plants(image_path):\n",
    "    # Read the image\n",
    "    image = cv2.imread(image_path)\n",
    "    if image is None:\n",
    "        print(\"Error: Could not load image.\")\n",
    "        return\n",
    "    \n",
    "    # Convert image to grayscale\n",
    "    gray = cv2.cvtColor(image, cv2.COLOR_BGR2GRAY)\n",
    "    \n",
    "    # Apply Gaussian Blur to reduce noise\n",
    "    blurred = cv2.GaussianBlur(gray, (5, 5), 0)\n",
    "    \n",
    "    # Apply Otsu's thresholding\n",
    "    _, thresh = cv2.threshold(blurred, 0, 255, cv2.THRESH_BINARY_INV + cv2.THRESH_OTSU)\n",
    "    \n",
    "    # Perform morphological operations to remove noise\n",
    "    kernel = np.ones((3,3), np.uint8)\n",
    "    cleaned = cv2.morphologyEx(thresh, cv2.MORPH_OPEN, kernel, iterations=3)\n",
    "    cleaned = cv2.morphologyEx(cleaned, cv2.MORPH_CLOSE, kernel, iterations=3)\n",
    "    \n",
    "    # Find contours\n",
    "    contours, _ = cv2.findContours(cleaned, cv2.RETR_EXTERNAL, cv2.CHAIN_APPROX_SIMPLE)\n",
    "    \n",
    "    # Filter out small contours (noise)\n",
    "    min_area = 200  # Adjust this value based on image resolution\n",
    "    filtered_contours = [cnt for cnt in contours if cv2.contourArea(cnt) > min_area]\n",
    "    \n",
    "    # Draw contours on the original image\n",
    "    result = image.copy()\n",
    "    cv2.drawContours(result, filtered_contours, -1, (0, 255, 0), 2)\n",
    "    \n",
    "    # Display the results\n",
    "    print(f\"Number of plants detected: {len(filtered_contours)}\")\n",
    "    cv2.imshow(\"Original Image\", image)\n",
    "    cv2.imshow(\"Thresholded Image\", thresh)\n",
    "    cv2.imshow(\"Detected Plants\", result)\n",
    "    cv2.waitKey(0)\n",
    "    cv2.destroyAllWindows()\n",
    "\n",
    "# Example usage\n",
    "image_path = \"Count1.tif\"  # Change this to your image path\n",
    "count_plants(image_path)\n"
   ]
  },
  {
   "cell_type": "code",
   "execution_count": null,
   "id": "ed967842-952e-43d9-8666-aa9983b8c4fc",
   "metadata": {},
   "outputs": [],
   "source": [
    "!git add plant_count.ipynb\n"
   ]
  },
  {
   "cell_type": "code",
   "execution_count": null,
   "id": "61aa8be5-b982-4480-9490-d3212b5ef77a",
   "metadata": {},
   "outputs": [],
   "source": [
    "!git init\n",
    "!git remote add origin https://github.com/NitinGautam05/Land-Cover-Classification.git\n",
    "!git add plant_count.ipynb\n",
    "!git commit -m \"Plant count code\"\n",
    "!git push origin master"
   ]
  }
 ],
 "metadata": {
  "kernelspec": {
   "display_name": "Python 3 (ipykernel)",
   "language": "python",
   "name": "python3"
  },
  "language_info": {
   "codemirror_mode": {
    "name": "ipython",
    "version": 3
   },
   "file_extension": ".py",
   "mimetype": "text/x-python",
   "name": "python",
   "nbconvert_exporter": "python",
   "pygments_lexer": "ipython3",
   "version": "3.11.7"
  }
 },
 "nbformat": 4,
 "nbformat_minor": 5
}
